{
 "cells": [
  {
   "cell_type": "markdown",
   "metadata": {},
   "source": [
    "# KNN on CIFAR-10 dataset using similarity measure L1 which is Manhattan distance...\n",
    "### Ameet Kumar Rana, Army Institute Of Technology Pune"
   ]
  },
  
  {
   "cell_type": "code",
   "execution_count": 1,
   "metadata": {},
   "outputs": [],
   "source": [
    "import numpy as np\n",
    "import matplotlib.pyplot as plt\n",
    "import os\n",
    "import pickle"
   ]
  },
  {
   "cell_type": "code",
   "execution_count": 2,
   "metadata": {},
   "outputs": [],
   "source": [
    "def load_CIFAR10(path):\n",
    "    \n",
    "    train = []\n",
    "    train_label = []\n",
    "    test = []\n",
    "    test_label = []\n",
    "    \n",
    "    print(\"location of training files : \")\n",
    "    file = 'data_batch_'\n",
    "    for i in range(5):                                  #reading all training data\n",
    "        temp = path + '/' + file + str(i+1)\n",
    "        with open(temp, 'rb') as fo:\n",
    "            dict = pickle.load(fo, encoding='bytes')\n",
    "            train.append(dict[b'data'])\n",
    "            train_label.append(dict[b'labels'])\n",
    "            print(str(i+1),\"  ->  \",temp)\n",
    "    \n",
    "    with open(path + '/' + \"test_batch\", 'rb') as fo:  #reading test data\n",
    "        dict = pickle.load(fo, encoding='bytes')\n",
    "        test.append(dict[b'data'])\n",
    "        test_label.append(dict[b'labels'])\n",
    "        print(\"\\n\\ntest file  ->  \",path + '/' + \"test_batch\")\n",
    "     \n",
    "    train_data = np.array(train)                              #converted list to numpy array\n",
    "    train_label = np.array(train_label)\n",
    "    test_data = np.array(test)\n",
    "    test_label = np.array(test_label)\n",
    "    \n",
    "    dictData = {}                                       #final token having train and test data of shape(x,3072)\n",
    "    \n",
    "    dictData['train_data'] = np.reshape(train_data, newshape = (train_data.shape[0]*train_data.shape[1],train_data.shape[2]))\n",
    "    dictData['train_label'] = np.reshape(train_label, newshape = (train_label.shape[0]*train_label.shape[1]))\n",
    "    dictData['test_data'] = np.reshape(test_data, newshape = (test_data.shape[0]*test_data.shape[1],test_data.shape[2]))\n",
    "    dictData['test_label'] = np.reshape(test_label, newshape = (test_label.shape[0]*test_label.shape[1]))\n",
    "    return dictData"
   ]
  },
  {
   "cell_type": "code",
   "execution_count": 3,
   "metadata": {},
   "outputs": [
    {
     "name": "stdout",
     "output_type": "stream",
     "text": [
      "location of training files : \n",
      "1   ->   /home/sk_sajib/current/knn on CIFAR-10/cifar-10-batches-py/data_batch_1\n",
      "2   ->   /home/sk_sajib/current/knn on CIFAR-10/cifar-10-batches-py/data_batch_2\n",
      "3   ->   /home//sk_sajib/knn on CIFAR-10/cifar-10-batches-py/data_batch_3\n",
      "4   ->   /home/sk_sajib/current/knn on CIFAR-10/cifar-10-batches-py/data_batch_4\n",
      "5   ->   /home/sk_sajib/current/knn on CIFAR-10/cifar-10-batches-py/data_batch_5\n",
      "\n",
      "\n",
      "test file  ->   /home/sk_sajib/current/knn on CIFAR-10/cifar-10-batches-py/test_batch\n"
     ]
    }
   ],
   "source": [
    "#loading the dataset\n",
    "dataset = load_CIFAR10(path = '/home/sk_sajib/current/knn on CIFAR-10/cifar-10-batches-py')"
   ]
  },
  {
   "cell_type": "code",
   "execution_count": 4,
   "metadata": {},
   "outputs": [
    {
     "data": {
      "text/plain": [
       "(50000, 3072)"
      ]
     },
     "execution_count": 4,
     "metadata": {},
     "output_type": "execute_result"
    }
   ],
   "source": [
    "dataset['train_data'].shape #cheking shapes of all the entries in the dictionary"
   ]
  },
  {
   "cell_type": "code",
   "execution_count": 5,
   "metadata": {},
   "outputs": [
    {
     "data": {
      "text/plain": [
       "(50000,)"
      ]
     },
     "execution_count": 5,
     "metadata": {},
     "output_type": "execute_result"
    }
   ],
   "source": [
    "dataset['train_label'].shape"
   ]
  },
  {
   "cell_type": "code",
   "execution_count": 6,
   "metadata": {},
   "outputs": [
    {
     "data": {
      "text/plain": [
       "(10000, 3072)"
      ]
     },
     "execution_count": 6,
     "metadata": {},
     "output_type": "execute_result"
    }
   ],
   "source": [
    "dataset['test_data'].shape"
   ]
  },
  {
   "cell_type": "code",
   "execution_count": 7,
   "metadata": {},
   "outputs": [
    {
     "data": {
      "text/plain": [
       "(10000,)"
      ]
     },
     "execution_count": 7,
     "metadata": {},
     "output_type": "execute_result"
    }
   ],
   "source": [
    "dataset['test_label'].shape"
   ]
  },
  {
   "cell_type": "code",
   "execution_count": 8,
   "metadata": {},
   "outputs": [
    {
     "data": {
      "image/png": "[encoded data removed]",
      "text/plain": [
       "<Figure size 432x288 with 1 Axes>"
      ]
     },
     "metadata": {},
     "output_type": "display_data"
    }
   ],
   "source": [
    "#cheking of any random data images from training data\n",
    "temp_ran = dataset['train_data'][118]\n",
    "\n",
    "r = temp_ran[0:1024].reshape(32,32)\n",
    "g = temp_ran[1024:2048].reshape(32,32)\n",
    "b = temp_ran[2048:3072].reshape(32,32)\n",
    "\n",
    "final_image = np.dstack((r,g,b))        #Stacking all the three channels which are R,G and B\n",
    "plt.imshow(final_image)\n",
    "plt.show()"
   ]
  },
  {
   "cell_type": "code",
   "execution_count": 9,
   "metadata": {},
   "outputs": [],
   "source": [
    "x_train = dataset['train_data']\n",
    "y_train = dataset['train_label']\n",
    "x_test = dataset['test_data']\n",
    "y_test = dataset['test_label']"
   ]
  },
  {
   "cell_type": "code",
   "execution_count": 10,
   "metadata": {},
   "outputs": [
    {
     "name": "stdout",
     "output_type": "stream",
     "text": [
      "\n",
      "Size of test set       :  49000\n",
      "Size of validation set :  1000\n"
     ]
    }
   ],
   "source": [
    "#creating one set of data for validation\n",
    "\n",
    "train_x , train_y = x_train[0:49000] , y_train[0:49000]\n",
    "\n",
    "val_x , val_y = x_train[49000:] , y_train[49000:]        #for validation\n",
    "\n",
    "print(\"\\nSize of test set       : \",train_x.shape[0])\n",
    "print(\"Size of validation set : \",val_x.shape[0])"
   ]
  },
  {
   "cell_type": "code",
   "execution_count": 11,
   "metadata": {},
   "outputs": [],
   "source": [
    "#main classifier ------> knn\n",
    "\n",
    "class KNearestNeighbor(object):\n",
    "    \n",
    "    def __init__(self):                #for people using other languages can relate it with constructor\n",
    "        pass\n",
    "    \n",
    "    def train(self,Xtr,Ytr):           #assigned numpy array to instance of the class\n",
    "        self.Xtr = Xtr\n",
    "        self.Ytr = Ytr\n",
    "    \n",
    "    def predictL1(self,X,k):             #function to predict the class of all the numpy array image passed with value of k\n",
    "                                       #X = testing array , K = hyper-parameter \n",
    "        total_samples = X.shape[0]     #total number of images we need to classify\n",
    "        \n",
    "        y_pred = np.zeros(total_samples, dtype = self.Ytr.dtype)   #initializing the array which will store final results\n",
    "        \n",
    "        for i in range(total_samples):\n",
    "            \n",
    "            label_count = np.zeros(10, dtype = self.Ytr.dtype)     #array with size 10. The value will highest count in \n",
    "                                                                   # the end will decide that in which class image belongs to \n",
    "            \n",
    "            dist = np.sum(np.abs(X[i,:] - self.Xtr), axis = 1)     #array of distances with all data in training set\n",
    "                                                                   # here we have stored Manhattan distance which is\n",
    "                                                                   # taking the absolute difference horizontly across columns\n",
    "            \n",
    "            idx = np.argpartition(dist,k)                      #It will perform partial sorting \n",
    "                                                               #It means it will store k smallest elements in the \n",
    "                                                               # starting k indices\n",
    "            \n",
    "            min_ind = idx[:k]                                  #stored the first k elements\n",
    "            \n",
    "            for x in min_ind:                                  #running the loop k times\n",
    "                label_count[int(self.Ytr[x])] += 1             #increases the count of the repeating label\n",
    "            y_pred[i] = np.argmax(label_count)                 #image is finally classified into the class with maximum count\n",
    "        \n",
    "        return y_pred"
   ]
  },
  {
   "cell_type": "code",
   "execution_count": 12,
   "metadata": {},
   "outputs": [],
   "source": [
    "#creating instance of the class and assigning the data to the instance\n",
    "knn = KNearestNeighbor()\n",
    "knn.train(train_x,train_y)"
   ]
  },
  {
   "cell_type": "markdown",
   "metadata": {},
   "source": [
    "### Validating with different values of hyper-parameter k"
   ]
  },
  {
   "cell_type": "code",
   "execution_count": 13,
   "metadata": {},
   "outputs": [
    {
     "name": "stdout",
     "output_type": "stream",
     "text": [
      "Accuracy with K = 1:  0.27\n"
     ]
    }
   ],
   "source": [
    "#for K = 1 with L1 \n",
    "val_y_pred = knn.predictL1(val_x,1)\n",
    "\n",
    "#Accuracy obtained \n",
    "print(\"Accuracy with K = 1: \",np.mean(val_y_pred == val_y))"
   ]
  },
  {
   "cell_type": "code",
   "execution_count": 14,
   "metadata": {},
   "outputs": [
    {
     "name": "stdout",
     "output_type": "stream",
     "text": [
      "Accuracy with K = 3:  0.253\n"
     ]
    }
   ],
   "source": [
    "#for K = 3 with L1 \n",
    "val_y_pred = knn.predictL1(val_x,3)\n",
    "\n",
    "#Accuracy obtained\n",
    "print(\"Accuracy with K = 3: \",np.mean(val_y_pred == val_y))"
   ]
  },
  {
   "cell_type": "code",
   "execution_count": 15,
   "metadata": {},
   "outputs": [
    {
     "name": "stdout",
     "output_type": "stream",
     "text": [
      "Accuracy with K = 5:  0.274\n"
     ]
    }
   ],
   "source": [
    "#for K = 5 with L1 \n",
    "val_y_pred = knn.predictL1(val_x,5)\n",
    "\n",
    "#Accuracy obtained\n",
    "print(\"Accuracy with K = 5: \",np.mean(val_y_pred == val_y))"
   ]
  },
  {
   "cell_type": "code",
   "execution_count": 17,
   "metadata": {},
   "outputs": [
    {
     "name": "stdout",
     "output_type": "stream",
     "text": [
      "Accuracy with K = 7:  0.281\n"
     ]
    }
   ],
   "source": [
    "#for K = 7 with L1 \n",
    "val_y_pred = knn.predictL1(val_x,7)\n",
    "\n",
    "#Accuracy obtained\n",
    "print(\"Accuracy with K = 7: \",np.mean(val_y_pred == val_y))"
   ]
  },
  {
   "cell_type": "code",
   "execution_count": 18,
   "metadata": {},
   "outputs": [
    {
     "name": "stdout",
     "output_type": "stream",
     "text": [
      "Accuracy with K = 9:  0.273\n"
     ]
    }
   ],
   "source": [
    "#for K = 9 with L1 \n",
    "val_y_pred = knn.predictL1(val_x,9)\n",
    "\n",
    "#Accuracy obtained\n",
    "print(\"Accuracy with K = 9: \",np.mean(val_y_pred == val_y))"
   ]
  },
  {
   "cell_type": "markdown",
   "metadata": {},
   "source": [
    "## NOTE : \n",
    "For all the values of k that we have tested in classifier with L1 which is with the manhattan distance gives the best accuracy with k = 7"
   ]
  },
  {
   "cell_type": "markdown",
   "metadata": {},
   "source": [
    "### Finally checking accuracy on test with K = 7"
   ]
  },
  {
   "cell_type": "code",
   "execution_count": 19,
   "metadata": {},
   "outputs": [
    {
     "name": "stdout",
     "output_type": "stream",
     "text": [
      "Accuracy :  0.2781\n"
     ]
    }
   ],
   "source": [
    "#for K = 7 with L1 \n",
    "test_y_pred = knn.predictL1(x_test,7)\n",
    "\n",
    "#Accuracy obtained\n",
    "print(\"Accuracy : \",np.mean(test_y_pred == y_test))"
   ]
  },
  {
   "cell_type": "code",
   "execution_count": null,
   "metadata": {},
   "outputs": [],
   "source": []
  }
 ],
 "metadata": {
  "kernelspec": {
   "display_name": "Python 3",
   "language": "python",
   "name": "python3"
  },
  "language_info": {
   "codemirror_mode": {
    "name": "ipython",
    "version": 3
   },
   "file_extension": ".py",
   "mimetype": "text/x-python",
   "name": "python",
   "nbconvert_exporter": "python",
   "pygments_lexer": "ipython3",
   "version": "3.6.8"
  }
 },
 "nbformat": 4,
 "nbformat_minor": 2
}
